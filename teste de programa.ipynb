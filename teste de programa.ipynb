{
 "cells": [
  {
   "cell_type": "code",
   "execution_count": 1,
   "metadata": {},
   "outputs": [],
   "source": [
    "import pandas as pd\n",
    "import os\n",
    "import matplotlib.pyplot as plt\n",
    "import seaborn as sns\n",
    "import numpy as np\n",
    "import plotly.express as px\n",
    "import matplotlib\n",
    "from tqdm import tqdm\n",
    "import warnings\n",
    "import re\n",
    "from MyFiles import Security\n",
    "import PySimpleGUI as sg\n",
    "\n",
    "warnings.filterwarnings('ignore')"
   ]
  },
  {
   "cell_type": "markdown",
   "metadata": {},
   "source": [
    "# 1- Dados das estaçoes meteo"
   ]
  },
  {
   "cell_type": "code",
   "execution_count": 3,
   "metadata": {},
   "outputs": [
    {
     "name": "stdout",
     "output_type": "stream",
     "text": [
      "Stack_TPT_9_12_2021_21_32_44.csv\n"
     ]
    }
   ],
   "source": [
    "sg.popup('Good Job ')  #3\n",
    "sec= Security()\n",
    "#folder= sec.datasets\n",
    "folder = sg.popup_get_folder('File Name','File Search')   #4\n",
    "\n",
    "os.chdir(folder)\n",
    "fil = os.listdir()\n",
    "file_csv = fil[-2]\n",
    "print(file_csv)\n",
    "Data_DF = pd.read_csv(file_csv)\n",
    "DF_estation = pd.read_csv('Z.csv')\n",
    "Data_DF.pop('Unnamed: 0') \n",
    "DF_estation.pop('Unnamed: 0') \n",
    "DF_base = Data_DF.copy()\n",
    "feature_list = DF_base.columns                      # Data Features List\n",
    "featureSt_list = DF_estation.columns                # Station Feature List\n",
    "Stations_ID = DF_base[feature_list[1]].unique()     # Station in to Dataset\n",
    "Day_list = Data_DF['D/H Sample'].str[0:10].unique() # Days in to Dataset\n",
    "Day_list.sort()\n",
    "Stations_ID.sort()\n",
    "DF_estation['GPS'] = DF_estation['GPS'].map(lambda x: x.lstrip('[').rstrip(']'))\n",
    "new = DF_estation[\"GPS\"].str.split(\",\", n = 1, expand = True)\n",
    "DF_estation[\"X\"]= new[0].astype(float) \n",
    "DF_estation[\"Y\"]= new[1].astype(float)\n",
    "#popup(\"Estaçoes Meteorologicas\",\"Base de dados Carregada\")"
   ]
  },
  {
   "cell_type": "code",
   "execution_count": 9,
   "metadata": {},
   "outputs": [],
   "source": [
    "class IdStation:\n",
    "    def __init__(self,lista_estacoes,df_cadastro):\n",
    "        self.lista_estacoes=lista_estacoes\n",
    "        self.df_cadastro=df_cadastro\n",
    "\n",
    "    def get_by_index(self,index):\n",
    "        st_id=self.lista_estacoes[index]\n",
    "        nome= self.df_cadastro.loc[self.df_cadastro['ID']==st_id, 'Local']\n",
    "        print(f'Indice:{index}, nº estação: {st_id}, Nome estação: {nome.values[0]}')\n",
    "\n",
    "    def cadastro(self):\n",
    "        for i,st_id in enumerate(self.lista_estacoes):\n",
    "            self.get_by_index(i)\n",
    "\n",
    "    def get_by_ID(self, st_id):\n",
    "        nome= self.df_cadastro.loc[self.df_cadastro['ID']==st_id, ['Local','X','Y']]\n",
    "        if len(nome)==0: \n",
    "            print(f'{st_id} Não encontrado')\n",
    "        print(f'Nº estação: {st_id}, Nome estação: {nome.values[0]}')\n",
    "\n",
    "    def get_by_name(self, name):\n",
    "        estation_id=self.df_cadastro.loc[self.df_cadastro['Local'].str.contains(name), 'ID' ]\n",
    "        if len(estation_id)==0: \n",
    "            print(f'{name} Não encontrado')\n",
    "        print(estation_id)\n",
    "        for st in estation_id:\n",
    "            self.get_by_ID(st)\n",
    "        return \n",
    "\n",
    "    #def get_by_X(self, name):\n",
    "    #    estation_id=self.df_cadastro.loc[self.df_cadastro['GPS'].str.contains(name), 'ID' ]\n",
    "    #    if len(estation_id)==0: \n",
    "    #        print(f'{name} Não encontrado')\n",
    "    #    for st in estation_id:\n",
    "    #        self.get_by_ID(st)\n",
    "    #    return \n",
    "\n",
    "    def get_by_X(self, name):\n",
    "        estation_id=self.df_cadastro.loc[self.df_cadastro['GPS'].str.contains(name), 'ID' ]\n",
    "        if len(estation_id)==0: \n",
    "            print(f'{name} Não encontrado')\n",
    "        layout =[[sg.Text('Cabeçalho')],\n",
    "                 [sg.Output(size=(100,20), key='-OUTPUT-')],\n",
    "                 [sg.Text('Escolha uma Estaçao Meteorologica:')],\n",
    "                 [sg.In(key='-IN-')],\n",
    "                 [sg.Button('Go'),sg.Button('Clear'), sg.Button('Exit')]]\n",
    "        window = sg.Window('Search by (x,y)', layout)\n",
    " \n",
    "        while True:             \n",
    "            event, values = window.read()\n",
    "            for st in estation_id:\n",
    "                nome= self.df_cadastro.loc[self.df_cadastro['ID']==st, ['Local','X','Y']]\n",
    "                print(f'Nº estação: {st} -> Nome estação: {nome.values[0]}')\n",
    "            if event in (sg.WIN_CLOSED, 'Exit'):\n",
    "                print(values)\n",
    "                break\n",
    "            if event == 'Clear':\n",
    "                window['-OUTPUT-'].update('')\n",
    "           \n",
    "        window.close()\n",
    "\n",
    "        return \n",
    "\n",
    "\n",
    "    def get_by_Y(self, name):\n",
    "        estation_id=self.df_cadastro.loc[self.df_cadastro['Y'].str.contains(name), 'ID' ]\n",
    "        if len(estation_id)==0: \n",
    "            print(f'{name} Não encontrado')\n",
    "        for st in estation_id:\n",
    "            self.get_by_ID(st)\n"
   ]
  },
  {
   "cell_type": "code",
   "execution_count": 5,
   "metadata": {},
   "outputs": [],
   "source": [
    "def script_label(title,text):\n",
    "    texto = sg.popup_get_text(title,text)\n",
    "    return texto"
   ]
  },
  {
   "cell_type": "code",
   "execution_count": 10,
   "metadata": {},
   "outputs": [],
   "source": [
    "measure_locals = IdStation(Stations_ID,DF_estation)\n",
    "#measure_locals.cadastro()\n",
    "#measure_locals.get_by_index(12)\n",
    "#measure_locals.get_by_ID(1200502)\n",
    "#measure_locals.get_by_index(20)\n",
    "#measure_locals.get_by_name('isb')\n",
    "measure_locals.get_by_X(script_label(\"coordenadas (X,Y)\", 'introduza coordenada'))\n",
    "#measure_locals.get_by_name(script_label(\"localidade\", 'introduza a localidade'))\n"
   ]
  }
 ],
 "metadata": {
  "interpreter": {
   "hash": "b3ba2566441a7c06988d0923437866b63cedc61552a5af99d1f4fb67d367b25f"
  },
  "kernelspec": {
   "display_name": "Python 3.8.8 64-bit ('base': conda)",
   "name": "python3"
  },
  "language_info": {
   "codemirror_mode": {
    "name": "ipython",
    "version": 3
   },
   "file_extension": ".py",
   "mimetype": "text/x-python",
   "name": "python",
   "nbconvert_exporter": "python",
   "pygments_lexer": "ipython3",
   "version": "3.8.8"
  },
  "orig_nbformat": 4
 },
 "nbformat": 4,
 "nbformat_minor": 2
}
