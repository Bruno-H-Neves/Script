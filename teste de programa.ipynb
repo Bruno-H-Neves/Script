{
 "cells": [
  {
   "cell_type": "code",
   "execution_count": 1,
   "metadata": {},
   "outputs": [],
   "source": [
    "import pandas as pd\n",
    "import os\n",
    "import matplotlib.pyplot as plt\n",
    "import seaborn as sns\n",
    "import numpy as np\n",
    "import plotly.express as px\n",
    "import matplotlib\n",
    "from tqdm import tqdm\n",
    "import warnings\n",
    "import re\n",
    "from MyFiles import Security\n",
    "\n",
    "warnings.filterwarnings('ignore')"
   ]
  },
  {
   "cell_type": "markdown",
   "metadata": {},
   "source": [
    "# 1- Dados das estaçoes meteo"
   ]
  },
  {
   "cell_type": "code",
   "execution_count": 2,
   "metadata": {},
   "outputs": [],
   "source": [
    "sec= Security()\n",
    "folder= sec.datasets\n",
    "os.chdir(folder)\n",
    "fil = os.listdir()\n",
    "file_csv = fil[-2]\n",
    "Data_DF = pd.read_csv(file_csv)\n",
    "DF_estation = pd.read_csv('Z.csv')\n",
    "Data_DF.pop('Unnamed: 0') \n",
    "DF_estation.pop('Unnamed: 0') \n",
    "DF_base = Data_DF.copy()\n",
    "feature_list = DF_base.columns                      # Data Features List\n",
    "featureSt_list = DF_estation.columns                # Station Feature List\n",
    "Stations_ID = DF_base[feature_list[1]].unique()     # Station in to Dataset\n",
    "Day_list = Data_DF['D/H Sample'].str[0:10].unique() # Days in to Dataset\n",
    "Day_list.sort()\n",
    "Stations_ID.sort()\n",
    "DF_estation['GPS'] = DF_estation['GPS'].map(lambda x: x.lstrip('[').rstrip(']'))\n",
    "new = DF_estation[\"GPS\"].str.split(\",\", n = 1, expand = True)\n",
    "DF_estation[\"X\"]= new[0].astype(float) \n",
    "DF_estation[\"Y\"]= new[1].astype(float)"
   ]
  },
  {
   "cell_type": "markdown",
   "metadata": {},
   "source": [
    "\n",
    "\n",
    "-Introduzir um nome\n",
    "\n",
    "-ver se existe na data frame"
   ]
  },
  {
   "cell_type": "code",
   "execution_count": 1,
   "metadata": {},
   "outputs": [],
   "source": [
    "class IdStation:\n",
    "    def __init__(self,lista_estacoes,df_cadastro):\n",
    "        self.lista_estacoes=lista_estacoes\n",
    "        self.df_cadastro=df_cadastro\n",
    "\n",
    "    def get_by_index(self,index):\n",
    "        st_id=self.lista_estacoes[index]\n",
    "        nome= self.df_cadastro.loc[self.df_cadastro['ID']==st_id, 'Local']\n",
    "        print(f'Indice:{index}, nº estação: {st_id}, Nome estação: {nome.values[0]}')\n",
    "\n",
    "    def cadastro(self):\n",
    "        for i,st_id in enumerate(self.lista_estacoes):\n",
    "            self.get_by_index(i)\n",
    "\n",
    "    def get_by_ID(self, st_id):\n",
    "        nome= self.df_cadastro.loc[self.df_cadastro['ID']==st_id, ['Local','X','Y']]\n",
    "        if len(nome)==0: \n",
    "            print(f'{st_id} Não encontrado')\n",
    "        print(f'Nº estação: {st_id}, Nome estação: {nome.values[0]}')\n",
    "\n",
    "    def get_by_name(self, name):\n",
    "        estation_id=self.df_cadastro.loc[self.df_cadastro['Local'].str.contains(name), 'ID' ]\n",
    "        if len(estation_id)==0: \n",
    "            print(f'{name} Não encontrado')\n",
    "        print(estation_id)\n",
    "        for st in estation_id:\n",
    "            self.get_by_ID(st)\n",
    "        return \n",
    "\n",
    "    def get_by_X(self, name):\n",
    "        estation_id=self.df_cadastro.loc[self.df_cadastro['GPS'].str.contains(name), 'ID' ]\n",
    "        if len(estation_id)==0: \n",
    "            print(f'{name} Não encontrado')\n",
    "        for st in estation_id:\n",
    "            self.get_by_ID(st)\n",
    "        return \n",
    "\n",
    "    def get_by_Y(self, name):\n",
    "        estation_id=self.df_cadastro.loc[self.df_cadastro['Y'].str.contains(name), 'ID' ]\n",
    "        if len(estation_id)==0: \n",
    "            print(f'{name} Não encontrado')\n",
    "        for st in estation_id:\n",
    "            self.get_by_ID(st)\n",
    "         \n",
    "\n"
   ]
  },
  {
   "cell_type": "code",
   "execution_count": 2,
   "metadata": {},
   "outputs": [
    {
     "ename": "NameError",
     "evalue": "name 'Stations_ID' is not defined",
     "output_type": "error",
     "traceback": [
      "\u001b[1;31m---------------------------------------------------------------------------\u001b[0m",
      "\u001b[1;31mNameError\u001b[0m                                 Traceback (most recent call last)",
      "\u001b[1;32m<ipython-input-2-0440ed240774>\u001b[0m in \u001b[0;36m<module>\u001b[1;34m\u001b[0m\n\u001b[1;32m----> 1\u001b[1;33m \u001b[0mmeasure_locals\u001b[0m \u001b[1;33m=\u001b[0m \u001b[0mIdStation\u001b[0m\u001b[1;33m(\u001b[0m\u001b[0mStations_ID\u001b[0m\u001b[1;33m,\u001b[0m\u001b[0mDF_estation\u001b[0m\u001b[1;33m)\u001b[0m\u001b[1;33m\u001b[0m\u001b[1;33m\u001b[0m\u001b[0m\n\u001b[0m\u001b[0;32m      2\u001b[0m \u001b[1;31m#measure_locals.cadastro()\u001b[0m\u001b[1;33m\u001b[0m\u001b[1;33m\u001b[0m\u001b[1;33m\u001b[0m\u001b[0m\n\u001b[0;32m      3\u001b[0m \u001b[1;31m#measure_locals.get_by_index(12)\u001b[0m\u001b[1;33m\u001b[0m\u001b[1;33m\u001b[0m\u001b[1;33m\u001b[0m\u001b[0m\n\u001b[0;32m      4\u001b[0m \u001b[1;31m#measure_locals.get_by_ID(1200502)\u001b[0m\u001b[1;33m\u001b[0m\u001b[1;33m\u001b[0m\u001b[1;33m\u001b[0m\u001b[0m\n\u001b[0;32m      5\u001b[0m \u001b[1;31m#measure_locals.get_by_index(20)\u001b[0m\u001b[1;33m\u001b[0m\u001b[1;33m\u001b[0m\u001b[1;33m\u001b[0m\u001b[0m\n",
      "\u001b[1;31mNameError\u001b[0m: name 'Stations_ID' is not defined"
     ]
    }
   ],
   "source": [
    "measure_locals = IdStation(Stations_ID,DF_estation)\n",
    "#measure_locals.cadastro()\n",
    "#measure_locals.get_by_index(12)\n",
    "#measure_locals.get_by_ID(1200502)\n",
    "#measure_locals.get_by_index(20)\n",
    "#measure_locals.get_by_name('isb')\n",
    "measure_locals.get_by_X('-8.7')\n"
   ]
  }
 ],
 "metadata": {
  "interpreter": {
   "hash": "b3ba2566441a7c06988d0923437866b63cedc61552a5af99d1f4fb67d367b25f"
  },
  "kernelspec": {
   "display_name": "Python 3.8.8 64-bit ('base': conda)",
   "name": "python3"
  },
  "language_info": {
   "codemirror_mode": {
    "name": "ipython",
    "version": 3
   },
   "file_extension": ".py",
   "mimetype": "text/x-python",
   "name": "python",
   "nbconvert_exporter": "python",
   "pygments_lexer": "ipython3",
   "version": "3.8.8"
  },
  "orig_nbformat": 4
 },
 "nbformat": 4,
 "nbformat_minor": 2
}
